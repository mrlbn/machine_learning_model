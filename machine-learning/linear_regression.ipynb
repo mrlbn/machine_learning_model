{
 "cells": [
  {
   "cell_type": "code",
   "execution_count": 3,
   "metadata": {},
   "outputs": [],
   "source": [
    "import numpy as np\n",
    "import matplotlib.pyplot as plt"
   ]
  },
  {
   "cell_type": "code",
   "execution_count": 72,
   "metadata": {},
   "outputs": [
    {
     "data": {
      "text/plain": [
       "array([[38,  1],\n",
       "       [13,  1],\n",
       "       [73,  1],\n",
       "       [10,  1],\n",
       "       [76,  1],\n",
       "       [ 6,  1],\n",
       "       [80,  1],\n",
       "       [65,  1],\n",
       "       [17,  1],\n",
       "       [ 2,  1],\n",
       "       [77,  1],\n",
       "       [72,  1],\n",
       "       [ 7,  1],\n",
       "       [26,  1],\n",
       "       [51,  1],\n",
       "       [21,  1],\n",
       "       [19,  1],\n",
       "       [85,  1],\n",
       "       [12,  1],\n",
       "       [29,  1]])"
      ]
     },
     "execution_count": 72,
     "metadata": {},
     "output_type": "execute_result"
    }
   ],
   "source": [
    "np.random.seed(1)\n",
    "x_train=np.random.randint(1,100,20)\n",
    "x_train2=np.random.randint(1,100,20)\n",
    "y_train=x_train*np.sin(x_train)+4\n",
    "nd = np.ones((1,20),dtype=int)\n",
    "x_train=np.vstack([x,nd])\n",
    "x_train.T\n",
    "#plt.scatter(x_train,y_train)\n",
    "#plt.show()"
   ]
  },
  {
   "cell_type": "code",
   "execution_count": 73,
   "metadata": {},
   "outputs": [
    {
     "data": {
      "image/png": "[encoded data removed]",
      "text/plain": [
       "<matplotlib.figure.Figure at 0x1a513d272e8>"
      ]
     },
     "metadata": {},
     "output_type": "display_data"
    }
   ],
   "source": [
    "#使用最小二乘法\n",
    "n = len(x_train)\n",
    "w = np.linalg.inv((x_train.dot(x_train.T))).dot(x_train).dot(y_train)\n",
    "np.random.seed(2)\n",
    "nd = np.ones((1,10),dtype=int)\n",
    "x_predict = np.random.randint(1,100,10)\n",
    "x_test = np.vstack([x_predict,nd])\n",
    "y_predict = x_test.T.dot(w)\n",
    "y_predict\n",
    "plt.plot(x_predict,y_predict)\n",
    "plt.scatter(x_train2,y_train)\n",
    "plt.show()"
   ]
  }
 ],
 "metadata": {
  "kernelspec": {
   "display_name": "Python 3",
   "language": "python",
   "name": "python3"
  },
  "language_info": {
   "codemirror_mode": {
    "name": "ipython",
    "version": 3
   },
   "file_extension": ".py",
   "mimetype": "text/x-python",
   "name": "python",
   "nbconvert_exporter": "python",
   "pygments_lexer": "ipython3",
   "version": "3.6.2"
  }
 },
 "nbformat": 4,
 "nbformat_minor": 2
}
