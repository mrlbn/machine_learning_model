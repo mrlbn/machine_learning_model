{
 "cells": [
  {
   "cell_type": "code",
   "execution_count": 3,
   "metadata": {},
   "outputs": [],
   "source": [
    "import numpy as np\n",
    "from keras.models import Sequential\n",
    "from keras.layers import Dense\n",
    "import matplotlib.pyplot as plt"
   ]
  },
  {
   "cell_type": "code",
   "execution_count": 17,
   "metadata": {},
   "outputs": [],
   "source": [
    "np.random.seed(23)\n",
    "\n",
    "#创建数据集\n",
    "X = np.linspace(-1,1,200)\n",
    "np.random.shuffle(X)\n",
    "Y = 0.5 * X + 2 + np.random.normal(0,0.05,(200,))\n",
    "#plt.scatter(X,Y)\n",
    "#plt.show()"
   ]
  },
  {
   "cell_type": "code",
   "execution_count": 28,
   "metadata": {
    "collapsed": true
   },
   "outputs": [],
   "source": [
    "#创建训练集和测试集\n",
    "X_train,Y_train = X[:180],Y[:180]\n",
    "X_test,Y_test = X[160:],Y[160:]\n"
   ]
  },
  {
   "cell_type": "code",
   "execution_count": 29,
   "metadata": {},
   "outputs": [],
   "source": [
    "model = Sequential()\n",
    "model.add(Dense(input_dim=1,units=1))\n",
    "\n",
    "model.compile(loss='mse',optimizer='sgd')\n"
   ]
  },
  {
   "cell_type": "code",
   "execution_count": 30,
   "metadata": {},
   "outputs": [
    {
     "name": "stdout",
     "output_type": "stream",
     "text": [
      "--training--\n",
      "training cost:  4.051787\n",
      "training cost:  0.07855736\n",
      "training cost:  0.0048987237\n",
      "training cost:  0.0025799072\n"
     ]
    }
   ],
   "source": [
    "#开始训练\n",
    "print('--training--')\n",
    "for step in range(301):\n",
    "    cost = model.train_on_batch(X_train,Y_train)\n",
    "    if step % 100 == 0:\n",
    "        print('training cost: ',cost)"
   ]
  },
  {
   "cell_type": "code",
   "execution_count": 31,
   "metadata": {},
   "outputs": [
    {
     "name": "stdout",
     "output_type": "stream",
     "text": [
      "testing\n",
      "40/40 [==============================] - 0s 650us/step\n",
      "test cost:  0.001941991737112403\n",
      "weight:  [[0.4727347]] b:  [1.9992121]\n"
     ]
    }
   ],
   "source": [
    "print('testing')\n",
    "cost = model.evaluate(X_test,Y_test,batch_size=40)\n",
    "print(\"test cost: \",cost)\n",
    "\n",
    "W,b = model.layers[0].get_weights()\n",
    "\n",
    "print('weight: ',W,'b: ',b)\n"
   ]
  },
  {
   "cell_type": "code",
   "execution_count": 32,
   "metadata": {},
   "outputs": [
    {
     "data": {
      "image/png": "[encoded data removed]",
      "text/plain": [
       "<matplotlib.figure.Figure at 0x1df1ed9c828>"
      ]
     },
     "metadata": {},
     "output_type": "display_data"
    }
   ],
   "source": [
    "Y_pred = model.predict(X_test)\n",
    "plt.scatter(X_test,Y_test)\n",
    "plt.plot(X_test,Y_pred)\n",
    "plt.show()"
   ]
  }
 ],
 "metadata": {
  "kernelspec": {
   "display_name": "Python 3",
   "language": "python",
   "name": "python3"
  },
  "language_info": {
   "codemirror_mode": {
    "name": "ipython",
    "version": 3
   },
   "file_extension": ".py",
   "mimetype": "text/x-python",
   "name": "python",
   "nbconvert_exporter": "python",
   "pygments_lexer": "ipython3",
   "version": "3.6.2"
  }
 },
 "nbformat": 4,
 "nbformat_minor": 2
}
